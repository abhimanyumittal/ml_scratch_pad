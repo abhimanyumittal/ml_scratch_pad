{
 "cells": [
  {
   "cell_type": "markdown",
   "metadata": {},
   "source": [
    "### Generate Data"
   ]
  },
  {
   "cell_type": "code",
   "execution_count": 1,
   "metadata": {
    "collapsed": true
   },
   "outputs": [],
   "source": [
    "import numpy as np\n",
    "import matplotlib.pyplot as plt\n",
    "def generate_linear_data(a,b,num):\n",
    "    x = np.arange(0,num)\n",
    "    y = (a*x+b) + (2*np.random.random((num)) -1)\n",
    "    return x,y"
   ]
  },
  {
   "cell_type": "code",
   "execution_count": 2,
   "metadata": {
    "collapsed": true
   },
   "outputs": [],
   "source": [
    "x,y = generate_linear_data(a=1,b=1,num=10)"
   ]
  },
  {
   "cell_type": "code",
   "execution_count": 3,
   "metadata": {},
   "outputs": [
    {
     "data": {
      "image/png": "[encoded data removed]",
      "text/plain": [
       "<matplotlib.figure.Figure at 0x112366c18>"
      ]
     },
     "metadata": {},
     "output_type": "display_data"
    }
   ],
   "source": [
    "plt.scatter(x,y)\n",
    "plt.show()"
   ]
  },
  {
   "cell_type": "markdown",
   "metadata": {},
   "source": [
    "### Vanilla linear regression closed form solution"
   ]
  },
  {
   "cell_type": "code",
   "execution_count": 4,
   "metadata": {
    "collapsed": true
   },
   "outputs": [],
   "source": [
    "def covariance(x,y):\n",
    "    return np.cov(x,y)[0][1]\n",
    "def variance(x):\n",
    "    return np.var(x)\n",
    "def mean(x):\n",
    "    return np.mean(x)\n",
    "\n",
    "class LinearRegressionClosed:\n",
    "#     A closed form solution for, y = B0 + B1*x\n",
    "    B0 = None\n",
    "    B1 = None\n",
    "    \n",
    "    def fit(self,x_arr, y_arr):\n",
    "        self.B1 = covariance(x_arr,y_arr)/variance(x_arr)\n",
    "        self.B0 = mean(y_arr) - self.B1*mean(x_arr)\n",
    "        \n",
    "    def predict(self,x_arr):\n",
    "        y_arr=[]\n",
    "        for x in x_arr:\n",
    "            y_arr.append(self.B0 + self.B1*x)\n",
    "        return y_arr\n",
    "    \n",
    "    def get_coefficients(self):\n",
    "        return self.B0, self.B1"
   ]
  },
  {
   "cell_type": "code",
   "execution_count": 5,
   "metadata": {
    "collapsed": true
   },
   "outputs": [],
   "source": [
    "LR = LinearRegressionClosed()\n",
    "LR.fit(x,y)"
   ]
  },
  {
   "cell_type": "code",
   "execution_count": 6,
   "metadata": {},
   "outputs": [
    {
     "data": {
      "image/png": "[encoded data removed]",
      "text/plain": [
       "<matplotlib.figure.Figure at 0x112414ba8>"
      ]
     },
     "metadata": {},
     "output_type": "display_data"
    }
   ],
   "source": [
    "x_arr = range(10)\n",
    "y_arr = LR.predict(x_arr)\n",
    "plt.scatter(x,y)\n",
    "plt.plot(x_arr,y_arr)\n",
    "plt.show()"
   ]
  },
  {
   "cell_type": "markdown",
   "metadata": {},
   "source": [
    "### Vanilla Linear Regression with SGD"
   ]
  },
  {
   "cell_type": "code",
   "execution_count": 8,
   "metadata": {
    "collapsed": true
   },
   "outputs": [],
   "source": [
    "class LinearRegression:\n",
    "    weights=None\n",
    "    \n",
    "    def fit(self, features, target, num_steps, lr, add_intercept = False):\n",
    "        weights = np.random.normal(size=(features.shape[1],1))\n",
    "        \n",
    "        for step in range(num_steps):\n",
    "            scores = np.matmul(features, weights)\n",
    "            gradients = np.matmul(features.T, scores-target)\n",
    "            weights -= lr*gradients\n",
    "            \n",
    "            if step % 50 ==0:\n",
    "                j = np.sum(np.square(scores-target))\n",
    "                print(\"Loss is in iteration \"+ str(step) + \": \" + str(j))\n",
    "        self.weights = weights\n",
    "        \n",
    "    def predict(self,features):\n",
    "        return np.matmul(features, self.weights)"
   ]
  },
  {
   "cell_type": "code",
   "execution_count": 9,
   "metadata": {},
   "outputs": [
    {
     "name": "stdout",
     "output_type": "stream",
     "text": [
      "Loss is in iteration 0: 1532.82961602\n",
      "Loss is in iteration 50: 5.14622770735\n",
      "Loss is in iteration 100: 5.14622770735\n",
      "Loss is in iteration 150: 5.14622770735\n"
     ]
    }
   ],
   "source": [
    "x_new = x.reshape((x.shape[0],-1))\n",
    "y_new = y.reshape((y.shape[0],-1))\n",
    "LR = LinearRegression()\n",
    "LR.fit(x_new,y_new,200, 0.005)"
   ]
  },
  {
   "cell_type": "code",
   "execution_count": 10,
   "metadata": {
    "collapsed": true
   },
   "outputs": [],
   "source": [
    "x_arr = np.arange(10).reshape((10,1))\n",
    "y_arr = LR.predict(x_arr)"
   ]
  },
  {
   "cell_type": "code",
   "execution_count": 11,
   "metadata": {},
   "outputs": [
    {
     "data": {
      "image/png": "[encoded data removed]",
      "text/plain": [
       "<matplotlib.figure.Figure at 0x11585f128>"
      ]
     },
     "metadata": {},
     "output_type": "display_data"
    }
   ],
   "source": [
    "plt.scatter(x,y)\n",
    "plt.plot(x_arr,y_arr)\n",
    "plt.show()"
   ]
  },
  {
   "cell_type": "markdown",
   "metadata": {},
   "source": [
    "### Scikit Learn"
   ]
  },
  {
   "cell_type": "code",
   "execution_count": 12,
   "metadata": {},
   "outputs": [
    {
     "name": "stdout",
     "output_type": "stream",
     "text": [
      "Coefficients: \n",
      " [[ 1.06356341]]\n"
     ]
    },
    {
     "name": "stderr",
     "output_type": "stream",
     "text": [
      "/Users/abhimanyumittal/.pyenv/versions/anaconda3-5.0.1/lib/python3.6/site-packages/scipy/linalg/basic.py:1226: RuntimeWarning: internal gelsd driver lwork query error, required iwork dimension not returned. This is likely the result of LAPACK bug 0038, fixed in LAPACK 3.2.2 (released July 21, 2010). Falling back to 'gelss' driver.\n",
      "  warnings.warn(mesg, RuntimeWarning)\n"
     ]
    }
   ],
   "source": [
    "from sklearn import linear_model\n",
    "LR = linear_model.LinearRegression()\n",
    "LR.fit(x_new, y_new)\n",
    "print('Coefficients: \\n', LR.coef_)"
   ]
  },
  {
   "cell_type": "code",
   "execution_count": 13,
   "metadata": {},
   "outputs": [
    {
     "data": {
      "image/png": "[encoded data removed]",
      "text/plain": [
       "<matplotlib.figure.Figure at 0x11f4e9b00>"
      ]
     },
     "metadata": {},
     "output_type": "display_data"
    }
   ],
   "source": [
    "y_arr = LR.predict(x_arr)\n",
    "plt.scatter(x,y)\n",
    "plt.plot(x_arr,y_arr)\n",
    "plt.show()"
   ]
  },
  {
   "cell_type": "code",
   "execution_count": null,
   "metadata": {
    "collapsed": true
   },
   "outputs": [],
   "source": []
  }
 ],
 "metadata": {
  "kernelspec": {
   "display_name": "Python 3",
   "language": "python",
   "name": "python3"
  },
  "language_info": {
   "codemirror_mode": {
    "name": "ipython",
    "version": 3
   },
   "file_extension": ".py",
   "mimetype": "text/x-python",
   "name": "python",
   "nbconvert_exporter": "python",
   "pygments_lexer": "ipython3",
   "version": "3.6.3"
  }
 },
 "nbformat": 4,
 "nbformat_minor": 2
}
