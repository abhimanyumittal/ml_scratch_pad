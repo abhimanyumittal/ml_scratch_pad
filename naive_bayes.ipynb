{
 "cells": [
  {
   "cell_type": "markdown",
   "metadata": {},
   "source": [
    "### Get data"
   ]
  },
  {
   "cell_type": "code",
   "execution_count": 17,
   "metadata": {
    "collapsed": true
   },
   "outputs": [],
   "source": [
    "import pandas as pd\n",
    "def get_pima_data():\n",
    "    filename = 'data/pima-indians-diabetes.csv'\n",
    "    df=pd.read_csv(filename, header=None)\n",
    "    Y_train = df[8].values\n",
    "    del df[8]\n",
    "    X_train = df.values\n",
    "    return X_train, Y_train"
   ]
  },
  {
   "cell_type": "markdown",
   "metadata": {},
   "source": [
    "### Naive Bayes"
   ]
  },
  {
   "cell_type": "code",
   "execution_count": 18,
   "metadata": {},
   "outputs": [],
   "source": [
    "from collections import Counter, defaultdict\n",
    "import numpy as np\n",
    "\n",
    "class NaiveBaseClass:\n",
    "    def calculate_relative_occurences(self, list1):\n",
    "        no_examples = len(list1)\n",
    "        ro_dict = dict(Counter(list1))\n",
    "        for key in ro_dict.keys():\n",
    "            ro_dict[key] = ro_dict[key] / float(no_examples)\n",
    "        return ro_dict\n",
    "    \n",
    "    def get_max_value_key(self,dic):\n",
    "        v = np.array(list(dic.values()))\n",
    "        k = np.array(list(dic.keys()))\n",
    "        \n",
    "        maxima = np.where(v==np.max(v))[0]\n",
    "        if len(maxima) == 1:\n",
    "            return k[maxima[0]]\n",
    "        \n",
    "    def initialize_nb_dict(self):\n",
    "        self.nb_dict = {}\n",
    "        for label in self.labels:\n",
    "            self.nb_dict[label] = defaultdict(list)\n",
    "        \n",
    "class NaiveBayes(NaiveBaseClass):\n",
    "    def train(self, X, Y):\n",
    "        self.labels = np.unique(Y)\n",
    "        no_rows, no_cols = np.shape(X)\n",
    "        self.initialize_nb_dict()\n",
    "        self.class_probabilities = self.calculate_relative_occurences(Y)\n",
    "        \n",
    "        for label in self.labels:\n",
    "            row_indices = np.where(Y==label)[0]\n",
    "            X_ = X[row_indices,:]\n",
    "            no_rows_, no_cols_ = np.shape(X_)\n",
    "            for jj in range(0, no_cols_):\n",
    "                self.nb_dict[label][jj] += list(X_[:,jj])\n",
    "#         print(self.nb_dict)\n",
    "#         print('\\n')\n",
    "        for label in self.labels:\n",
    "            for jj in range(0, no_cols):\n",
    "                self.nb_dict[label][jj] = self.calculate_relative_occurences(self.nb_dict[label][jj])\n",
    "                \n",
    "    def classify_single_elem(self, X_elem):\n",
    "        Y_dict = {}\n",
    "        for label in self.labels:\n",
    "            class_probability = self.class_probabilities[label]\n",
    "            for ii in range(0,len(X_elem)):\n",
    "                relative_feature_values = self.nb_dict[label][ii]\n",
    "                if X_elem[ii] in relative_feature_values.keys():\n",
    "                    class_probability *= relative_feature_values[X_elem[ii]]\n",
    "                else:\n",
    "                    class_probability *= 0\n",
    "                \n",
    "            Y_dict[label] = class_probability\n",
    "        return self.get_max_value_key(Y_dict)\n",
    "        \n",
    "    def classify(self,X):\n",
    "        self.predicted_y_values = []\n",
    "        no_rows, no_cols = np.shape(X)\n",
    "        for ii in range(0,no_rows):\n",
    "            X_elem = X[ii,:]\n",
    "            prediction = self.classify_single_elem(X_elem)\n",
    "            self.predicted_y_values.append(prediction)\n",
    "        return self.predicted_y_values\n",
    "    "
   ]
  },
  {
   "cell_type": "markdown",
   "metadata": {},
   "source": [
    "### Train and predict"
   ]
  },
  {
   "cell_type": "code",
   "execution_count": 19,
   "metadata": {},
   "outputs": [
    {
     "name": "stdout",
     "output_type": "stream",
     "text": [
      "Accuracy: 0.9791666666666666\n"
     ]
    }
   ],
   "source": [
    "X_train, Y_train = get_pima_data()\n",
    "nbc = NaiveBayes()\n",
    "nbc.train(X_train, Y_train)\n",
    "preds = nbc.classify(X_train)\n",
    "print('Accuracy: {0}'.format((preds == Y_train).sum().astype(float) / len(preds)))"
   ]
  }
 ],
 "metadata": {
  "kernelspec": {
   "display_name": "Python 3",
   "language": "python",
   "name": "python3"
  },
  "language_info": {
   "codemirror_mode": {
    "name": "ipython",
    "version": 3
   },
   "file_extension": ".py",
   "mimetype": "text/x-python",
   "name": "python",
   "nbconvert_exporter": "python",
   "pygments_lexer": "ipython3",
   "version": "3.6.3"
  }
 },
 "nbformat": 4,
 "nbformat_minor": 2
}
